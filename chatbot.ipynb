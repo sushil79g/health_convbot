{
 "cells": [
  {
   "cell_type": "code",
   "execution_count": 2,
   "metadata": {},
   "outputs": [
    {
     "name": "stdout",
     "output_type": "stream",
     "text": [
      "Initial chats\n",
      "There's nothing to tell! He's just some guy I work with!\n",
      "C'mon, you're going out with the guy! There's gotta be something wrong with him!\n",
      "Alright Joey, be nice. So does he have a hump? A hump and a hairpiece?\n",
      "Wait, does he eat chalk?\n",
      "Just, 'cause, I don't want her to go through what I went through with Carl- oh!\n",
      "Okay, everybody relax. This is not even a date. It's just two people going out to dinner and not having sex.\n",
      "Sounds like a date to me.\n",
      "Alright, so I'm back in high school, I'm standing in the middle of the cafeteria, and I realize I am totally naked.\n",
      "Oh, yeah. Had that dream.\n",
      "Then I look down, and I realize there's a phone... there.\n"
     ]
    }
   ],
   "source": [
    "# -*- coding: utf-8 -*-\n",
    "\"\"\"\n",
    "Spyder Editor\n",
    "\n",
    "This is a temporary script file.\n",
    "\"\"\"\n",
    "import re\n",
    "import pandas as pd\n",
    "import contractions\n",
    "\n",
    "# contractions.add(\"c'mon\", 'come on')\n",
    "\n",
    "file = pd.read_csv('friends_chat.txt',sep='\\t')\n",
    "lines = file['line']\n",
    "\n",
    "print('Initial chats')\n",
    "for i in range(10):\n",
    "    print(lines[i])\n",
    "    \n",
    "def cleanchat(line):\n",
    "    #to convert text to lower case\n",
    "    line = line.lower()\n",
    "    #to remove ending EOL\n",
    "    line = re.sub(r'\\n','',line) \n",
    "    #re-format punctuations\n",
    "    line = re.sub(r\"[-()]\", \"\", line)\n",
    "    line = re.sub(r\"\\.\", \" .\", line)\n",
    "    line = re.sub(r\"\\!\", \" !\", line)\n",
    "    line = re.sub(r\"\\?\", \" ?\", line)\n",
    "    line = re.sub(r\"\\,\", \" ,\", line)\n",
    "    \n",
    "    #string replacement\n",
    "    line = re.sub(r\"i'm\", \"i am\", line)\n",
    "    line = re.sub(r\"he's\", \"he is\", line)\n",
    "    line = re.sub(r\"she's\", \"she is\", line)\n",
    "    line = re.sub(r\"it's\", \"it is\", line)\n",
    "    line = re.sub(r\"that's\", \"that is\", line)\n",
    "    line = re.sub(r\"what's\", \"that is\", line)\n",
    "    line = re.sub(r\"\\'ll\", \" will\", line)\n",
    "    line = re.sub(r\"\\'re\", \" are\", line)\n",
    "    line = re.sub(r\"won't\", \"will not\", line)\n",
    "    line = re.sub(r\"can't\", \"cannot\", line)\n",
    "    line = re.sub(r\"n't\", \" not\", line)\n",
    "    line = re.sub(r\"n'\", \"ng\", line)\n",
    "    line = re.sub(r\"ohh\", \"oh\", line)\n",
    "    line = re.sub(r\"ohhh\", \"oh\", line)\n",
    "    line = re.sub(r\"ohhhh\", \"oh\", line)\n",
    "    line = re.sub(r\"ohhhhh\", \"oh\", line)\n",
    "    line = re.sub(r\"ohhhhhh\", \"oh\", line)\n",
    "    line = re.sub(r\"ahh\", \"ah\", line)\n",
    "    \n",
    "    return line\n",
    "    "
   ]
  },
  {
   "cell_type": "code",
   "execution_count": 16,
   "metadata": {},
   "outputs": [],
   "source": [
    "def preprocess(x):\n",
    "    clean = cleanchat(x)\n",
    "    processed = contractions.fix(clean)\n",
    "    return processed\n",
    "\n",
    "file['processed_text'] = file['line'].apply(preprocess)\n"
   ]
  },
  {
   "cell_type": "code",
   "execution_count": 17,
   "metadata": {},
   "outputs": [],
   "source": [
    "def length(x):\n",
    "    return len(x.split())\n",
    "file['length'] = file['line'].apply(length)"
   ]
  },
  {
   "cell_type": "code",
   "execution_count": 18,
   "metadata": {},
   "outputs": [
    {
     "data": {
      "text/plain": [
       "count    60849.000000\n",
       "mean        10.161416\n",
       "std         10.438841\n",
       "min          1.000000\n",
       "25%          3.000000\n",
       "50%          7.000000\n",
       "75%         14.000000\n",
       "max        195.000000\n",
       "Name: length, dtype: float64"
      ]
     },
     "execution_count": 18,
     "metadata": {},
     "output_type": "execute_result"
    }
   ],
   "source": [
    "file['length'].describe()"
   ]
  },
  {
   "cell_type": "code",
   "execution_count": 19,
   "metadata": {},
   "outputs": [],
   "source": [
    "MAX_WORD_LENGTH = 15"
   ]
  },
  {
   "cell_type": "code",
   "execution_count": 20,
   "metadata": {},
   "outputs": [
    {
     "data": {
      "text/html": [
       "<div>\n",
       "<style scoped>\n",
       "    .dataframe tbody tr th:only-of-type {\n",
       "        vertical-align: middle;\n",
       "    }\n",
       "\n",
       "    .dataframe tbody tr th {\n",
       "        vertical-align: top;\n",
       "    }\n",
       "\n",
       "    .dataframe thead th {\n",
       "        text-align: right;\n",
       "    }\n",
       "</style>\n",
       "<table border=\"1\" class=\"dataframe\">\n",
       "  <thead>\n",
       "    <tr style=\"text-align: right;\">\n",
       "      <th></th>\n",
       "      <th>id</th>\n",
       "      <th>scene_id</th>\n",
       "      <th>person</th>\n",
       "      <th>gender</th>\n",
       "      <th>original_line</th>\n",
       "      <th>line</th>\n",
       "      <th>metadata</th>\n",
       "      <th>filename</th>\n",
       "      <th>processed_text</th>\n",
       "      <th>length</th>\n",
       "    </tr>\n",
       "  </thead>\n",
       "  <tbody>\n",
       "    <tr>\n",
       "      <th>0</th>\n",
       "      <td>1</td>\n",
       "      <td>1</td>\n",
       "      <td>MONICA</td>\n",
       "      <td>F</td>\n",
       "      <td>Monica: There's nothing to tell! He's just som...</td>\n",
       "      <td>There's nothing to tell! He's just some guy I ...</td>\n",
       "      <td>There_EX 's_VBZ nothing_PN1 to_TO tell_VVI !_!...</td>\n",
       "      <td>0101.txt</td>\n",
       "      <td>there is nothing to tell ! he is just some guy...</td>\n",
       "      <td>11</td>\n",
       "    </tr>\n",
       "    <tr>\n",
       "      <th>1</th>\n",
       "      <td>101</td>\n",
       "      <td>1</td>\n",
       "      <td>JOEY</td>\n",
       "      <td>M</td>\n",
       "      <td>Joey: C'mon, you're going out with the guy! Th...</td>\n",
       "      <td>C'mon, you're going out with the guy! There's ...</td>\n",
       "      <td>C'm_VV0 on_RP you_PPY 're_VBR going_VVG out_RP...</td>\n",
       "      <td>0101.txt</td>\n",
       "      <td>come on , you are going out with the guy ! the...</td>\n",
       "      <td>14</td>\n",
       "    </tr>\n",
       "    <tr>\n",
       "      <th>2</th>\n",
       "      <td>201</td>\n",
       "      <td>1</td>\n",
       "      <td>CHANDLER</td>\n",
       "      <td>M</td>\n",
       "      <td>Chandler: All right Joey, be nice.  So does he...</td>\n",
       "      <td>Alright Joey, be nice. So does he have a hump?...</td>\n",
       "      <td>All_RR21 right_RR22 Joey_NP1 be_VBI nice_JJ ._...</td>\n",
       "      <td>0101.txt</td>\n",
       "      <td>alright joey , be nice . so does he have a hum...</td>\n",
       "      <td>15</td>\n",
       "    </tr>\n",
       "    <tr>\n",
       "      <th>3</th>\n",
       "      <td>301</td>\n",
       "      <td>1</td>\n",
       "      <td>PHOEBE</td>\n",
       "      <td>F</td>\n",
       "      <td>Phoebe: Wait, does he eat chalk?</td>\n",
       "      <td>Wait, does he eat chalk?</td>\n",
       "      <td>Wait_VV0 does_VDZ he_PPHS1 eat_VVI chalk_NN1 ?_?</td>\n",
       "      <td>0101.txt</td>\n",
       "      <td>wait , does he eat chalk ?</td>\n",
       "      <td>5</td>\n",
       "    </tr>\n",
       "    <tr>\n",
       "      <th>4</th>\n",
       "      <td>401</td>\n",
       "      <td>1</td>\n",
       "      <td>PHOEBE</td>\n",
       "      <td>F</td>\n",
       "      <td>Phoebe: Just, 'cause, I don't want her to go t...</td>\n",
       "      <td>Just, 'cause, I don't want her to go through w...</td>\n",
       "      <td>Just_RR 'cause_CS I_PPIS1 do_VD0 n't_XX want_V...</td>\n",
       "      <td>0101.txt</td>\n",
       "      <td>just , because , i do not want her to go throu...</td>\n",
       "      <td>16</td>\n",
       "    </tr>\n",
       "  </tbody>\n",
       "</table>\n",
       "</div>"
      ],
      "text/plain": [
       "    id scene_id    person gender  \\\n",
       "0    1        1    MONICA      F   \n",
       "1  101        1      JOEY      M   \n",
       "2  201        1  CHANDLER      M   \n",
       "3  301        1    PHOEBE      F   \n",
       "4  401        1    PHOEBE      F   \n",
       "\n",
       "                                       original_line  \\\n",
       "0  Monica: There's nothing to tell! He's just som...   \n",
       "1  Joey: C'mon, you're going out with the guy! Th...   \n",
       "2  Chandler: All right Joey, be nice.  So does he...   \n",
       "3                   Phoebe: Wait, does he eat chalk?   \n",
       "4  Phoebe: Just, 'cause, I don't want her to go t...   \n",
       "\n",
       "                                                line  \\\n",
       "0  There's nothing to tell! He's just some guy I ...   \n",
       "1  C'mon, you're going out with the guy! There's ...   \n",
       "2  Alright Joey, be nice. So does he have a hump?...   \n",
       "3                           Wait, does he eat chalk?   \n",
       "4  Just, 'cause, I don't want her to go through w...   \n",
       "\n",
       "                                            metadata  filename  \\\n",
       "0  There_EX 's_VBZ nothing_PN1 to_TO tell_VVI !_!...  0101.txt   \n",
       "1  C'm_VV0 on_RP you_PPY 're_VBR going_VVG out_RP...  0101.txt   \n",
       "2  All_RR21 right_RR22 Joey_NP1 be_VBI nice_JJ ._...  0101.txt   \n",
       "3   Wait_VV0 does_VDZ he_PPHS1 eat_VVI chalk_NN1 ?_?  0101.txt   \n",
       "4  Just_RR 'cause_CS I_PPIS1 do_VD0 n't_XX want_V...  0101.txt   \n",
       "\n",
       "                                      processed_text  length  \n",
       "0  there is nothing to tell ! he is just some guy...      11  \n",
       "1  come on , you are going out with the guy ! the...      14  \n",
       "2  alright joey , be nice . so does he have a hum...      15  \n",
       "3                         wait , does he eat chalk ?       5  \n",
       "4  just , because , i do not want her to go throu...      16  "
      ]
     },
     "execution_count": 20,
     "metadata": {},
     "output_type": "execute_result"
    }
   ],
   "source": [
    "file.head(5)"
   ]
  },
  {
   "cell_type": "code",
   "execution_count": 21,
   "metadata": {},
   "outputs": [
    {
     "data": {
      "text/plain": [
       "id                0\n",
       "scene_id          0\n",
       "person            0\n",
       "gender            0\n",
       "original_line     0\n",
       "line              0\n",
       "metadata          0\n",
       "filename          0\n",
       "processed_text    0\n",
       "length            0\n",
       "dtype: int64"
      ]
     },
     "execution_count": 21,
     "metadata": {},
     "output_type": "execute_result"
    }
   ],
   "source": [
    "file.isnull().sum()"
   ]
  },
  {
   "cell_type": "code",
   "execution_count": 22,
   "metadata": {},
   "outputs": [],
   "source": [
    "temp_dataframe = file[['person','processed_text']]\n",
    "remove_index = []\n",
    "i = 0\n",
    "while i <= (len(temp_dataframe)-2):\n",
    "    raw_i = i\n",
    "    \n",
    "    while True:\n",
    "#         print(raw_i,i, i+1)\n",
    "        if temp_dataframe.iloc[i+1]['person'] == temp_dataframe.iloc[i]['person']:\n",
    "            temp_dataframe.iloc[raw_i]['processed_text'] += ' '+ temp_dataframe.iloc[i+1]['processed_text']\n",
    "            remove_index.append(i+1)\n",
    "        else:\n",
    "            break\n",
    "        i = i+1\n",
    "        \n",
    "    i += 1"
   ]
  },
  {
   "cell_type": "code",
   "execution_count": 23,
   "metadata": {},
   "outputs": [
    {
     "name": "stderr",
     "output_type": "stream",
     "text": [
      "/home/sushil79g/anaconda3/lib/python3.6/site-packages/pandas/core/frame.py:3940: SettingWithCopyWarning: \n",
      "A value is trying to be set on a copy of a slice from a DataFrame\n",
      "\n",
      "See the caveats in the documentation: http://pandas.pydata.org/pandas-docs/stable/indexing.html#indexing-view-versus-copy\n",
      "  errors=errors)\n"
     ]
    }
   ],
   "source": [
    "temp_dataframe.drop(remove_index, inplace=True)"
   ]
  },
  {
   "cell_type": "code",
   "execution_count": 24,
   "metadata": {},
   "outputs": [
    {
     "data": {
      "text/html": [
       "<div>\n",
       "<style scoped>\n",
       "    .dataframe tbody tr th:only-of-type {\n",
       "        vertical-align: middle;\n",
       "    }\n",
       "\n",
       "    .dataframe tbody tr th {\n",
       "        vertical-align: top;\n",
       "    }\n",
       "\n",
       "    .dataframe thead th {\n",
       "        text-align: right;\n",
       "    }\n",
       "</style>\n",
       "<table border=\"1\" class=\"dataframe\">\n",
       "  <thead>\n",
       "    <tr style=\"text-align: right;\">\n",
       "      <th></th>\n",
       "      <th>person</th>\n",
       "      <th>processed_text</th>\n",
       "    </tr>\n",
       "  </thead>\n",
       "  <tbody>\n",
       "    <tr>\n",
       "      <th>0</th>\n",
       "      <td>MONICA</td>\n",
       "      <td>there is nothing to tell ! he is just some guy...</td>\n",
       "    </tr>\n",
       "    <tr>\n",
       "      <th>1</th>\n",
       "      <td>JOEY</td>\n",
       "      <td>come on , you are going out with the guy ! the...</td>\n",
       "    </tr>\n",
       "    <tr>\n",
       "      <th>2</th>\n",
       "      <td>CHANDLER</td>\n",
       "      <td>alright joey , be nice . so does he have a hum...</td>\n",
       "    </tr>\n",
       "    <tr>\n",
       "      <th>3</th>\n",
       "      <td>PHOEBE</td>\n",
       "      <td>wait , does he eat chalk ? just , because , i ...</td>\n",
       "    </tr>\n",
       "    <tr>\n",
       "      <th>5</th>\n",
       "      <td>MONICA</td>\n",
       "      <td>okay , everybody relax . this is not even a da...</td>\n",
       "    </tr>\n",
       "  </tbody>\n",
       "</table>\n",
       "</div>"
      ],
      "text/plain": [
       "     person                                     processed_text\n",
       "0    MONICA  there is nothing to tell ! he is just some guy...\n",
       "1      JOEY  come on , you are going out with the guy ! the...\n",
       "2  CHANDLER  alright joey , be nice . so does he have a hum...\n",
       "3    PHOEBE  wait , does he eat chalk ? just , because , i ...\n",
       "5    MONICA  okay , everybody relax . this is not even a da..."
      ]
     },
     "execution_count": 24,
     "metadata": {},
     "output_type": "execute_result"
    }
   ],
   "source": [
    "temp_dataframe.head(5)"
   ]
  },
  {
   "cell_type": "code",
   "execution_count": 30,
   "metadata": {},
   "outputs": [],
   "source": [
    "# contractions.add(\"c'mon\", 'come on')\n",
    "list_of_word = list(temp_dataframe['processed_text'])"
   ]
  },
  {
   "cell_type": "code",
   "execution_count": 36,
   "metadata": {},
   "outputs": [],
   "source": [
    "words = ' '.join(list_of_word).split()"
   ]
  },
  {
   "cell_type": "code",
   "execution_count": 40,
   "metadata": {},
   "outputs": [],
   "source": [
    "from collections import Counter\n",
    "wordcount = Counter(words)"
   ]
  },
  {
   "cell_type": "code",
   "execution_count": 41,
   "metadata": {},
   "outputs": [],
   "source": [
    "vocab= set(words)"
   ]
  },
  {
   "cell_type": "code",
   "execution_count": 46,
   "metadata": {},
   "outputs": [],
   "source": [
    "word_threshold = []\n",
    "for word in vocab:\n",
    "    if wordcount[word] >=3:\n",
    "        word_threshold.append(word)\n",
    "#     break"
   ]
  },
  {
   "cell_type": "code",
   "execution_count": 55,
   "metadata": {},
   "outputs": [],
   "source": [
    "# word2ind ={{word, index} for word,index in enumerate(list(word_threshold))}"
   ]
  },
  {
   "cell_type": "code",
   "execution_count": 59,
   "metadata": {},
   "outputs": [],
   "source": [
    "word2index = {}\n",
    "index2word = {}\n",
    "for index,word in enumerate(word_threshold):\n",
    "    word2index.update({word:index})\n",
    "    index2word.update({index:word})"
   ]
  },
  {
   "cell_type": "code",
   "execution_count": 66,
   "metadata": {},
   "outputs": [
    {
     "data": {
      "text/plain": [
       "6671"
      ]
     },
     "execution_count": 66,
     "metadata": {},
     "output_type": "execute_result"
    }
   ],
   "source": [
    "from pprint import pprint\n",
    "# pprint('total word in vocab',len(word_threshold))\n",
    "len(word_threshold)"
   ]
  },
  {
   "cell_type": "code",
   "execution_count": null,
   "metadata": {},
   "outputs": [],
   "source": []
  }
 ],
 "metadata": {
  "kernelspec": {
   "display_name": "Python 3",
   "language": "python",
   "name": "python3"
  },
  "language_info": {
   "codemirror_mode": {
    "name": "ipython",
    "version": 3
   },
   "file_extension": ".py",
   "mimetype": "text/x-python",
   "name": "python",
   "nbconvert_exporter": "python",
   "pygments_lexer": "ipython3",
   "version": "3.6.7"
  },
  "pycharm": {
   "stem_cell": {
    "cell_type": "raw",
    "metadata": {
     "collapsed": false
    },
    "source": [
     "a = 5\n",
     "print(a)\n"
    ]
   }
  }
 },
 "nbformat": 4,
 "nbformat_minor": 1
}
