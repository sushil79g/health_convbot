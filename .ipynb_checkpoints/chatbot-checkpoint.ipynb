{
 "cells": [
  {
   "cell_type": "code",
   "execution_count": 1,
   "metadata": {},
   "outputs": [
    {
     "name": "stdout",
     "output_type": "stream",
     "text": [
      "Initial chats\n",
      "There's nothing to tell! He's just some guy I work with!\n",
      "C'mon, you're going out with the guy! There's gotta be something wrong with him!\n",
      "Alright Joey, be nice. So does he have a hump? A hump and a hairpiece?\n",
      "Wait, does he eat chalk?\n",
      "Just, 'cause, I don't want her to go through what I went through with Carl- oh!\n",
      "Okay, everybody relax. This is not even a date. It's just two people going out to dinner and not having sex.\n",
      "Sounds like a date to me.\n",
      "Alright, so I'm back in high school, I'm standing in the middle of the cafeteria, and I realize I am totally naked.\n",
      "Oh, yeah. Had that dream.\n",
      "Then I look down, and I realize there's a phone... there.\n"
     ]
    }
   ],
   "source": [
    "# -*- coding: utf-8 -*-\n",
    "\"\"\"\n",
    "Spyder Editor\n",
    "\n",
    "This is a temporary script file.\n",
    "\"\"\"\n",
    "import re\n",
    "import pandas as pd\n",
    "\n",
    "file = pd.read_csv('friendschat.txt',sep='\\t')\n",
    "lines = file['line']\n",
    "\n",
    "print('Initial chats')\n",
    "for i in range(10):\n",
    "    print(lines[i])\n",
    "    \n",
    "def cleanchat(line):\n",
    "    #to convert text to lower case\n",
    "    line = line.lower()\n",
    "    #to remove ending EOL\n",
    "    line = re.sub(r'\\n','',line) \n",
    "    #re-format punctuations\n",
    "    line = re.sub(r\"[-()]\", \"\", line)\n",
    "    line = re.sub(r\"\\.\", \" .\", line)\n",
    "    line = re.sub(r\"\\!\", \" !\", line)\n",
    "    line = re.sub(r\"\\?\", \" ?\", line)\n",
    "    line = re.sub(r\"\\,\", \" ,\", line)\n",
    "    \n",
    "    #string replacement\n",
    "    line = re.sub(r\"i'm\", \"i am\", line)\n",
    "    line = re.sub(r\"he's\", \"he is\", line)\n",
    "    line = re.sub(r\"she's\", \"she is\", line)\n",
    "    line = re.sub(r\"it's\", \"it is\", line)\n",
    "    line = re.sub(r\"that's\", \"that is\", line)\n",
    "    line = re.sub(r\"what's\", \"that is\", line)\n",
    "    line = re.sub(r\"\\'ll\", \" will\", line)\n",
    "    line = re.sub(r\"\\'re\", \" are\", line)\n",
    "    line = re.sub(r\"won't\", \"will not\", line)\n",
    "    line = re.sub(r\"can't\", \"cannot\", line)\n",
    "    line = re.sub(r\"n't\", \" not\", line)\n",
    "    line = re.sub(r\"n'\", \"ng\", line)\n",
    "    line = re.sub(r\"ohh\", \"oh\", line)\n",
    "    line = re.sub(r\"ohhh\", \"oh\", line)\n",
    "    line = re.sub(r\"ohhhh\", \"oh\", line)\n",
    "    line = re.sub(r\"ohhhhh\", \"oh\", line)\n",
    "    line = re.sub(r\"ohhhhhh\", \"oh\", line)\n",
    "    line = re.sub(r\"ahh\", \"ah\", line)\n",
    "    \n",
    "    return line\n",
    "    "
   ]
  },
  {
   "cell_type": "code",
   "execution_count": 4,
   "metadata": {},
   "outputs": [
    {
     "ename": "TypeError",
     "evalue": "unhashable type: 'list'",
     "output_type": "error",
     "traceback": [
      "\u001b[1;31m---------------------------------------------------------------------------\u001b[0m",
      "\u001b[1;31mTypeError\u001b[0m                                 Traceback (most recent call last)",
      "\u001b[1;32m<ipython-input-4-507f8e9103ca>\u001b[0m in \u001b[0;36m<module>\u001b[1;34m\u001b[0m\n\u001b[0;32m      3\u001b[0m \u001b[1;33m\u001b[0m\u001b[0m\n\u001b[0;32m      4\u001b[0m \u001b[1;31m# lines['processed_text'] = lines['line'].apply(preprocess)\u001b[0m\u001b[1;33m\u001b[0m\u001b[1;33m\u001b[0m\u001b[1;33m\u001b[0m\u001b[0m\n\u001b[1;32m----> 5\u001b[1;33m \u001b[0mlines\u001b[0m\u001b[1;33m.\u001b[0m\u001b[0mto_frame\u001b[0m\u001b[1;33m(\u001b[0m\u001b[0mname\u001b[0m\u001b[1;33m=\u001b[0m\u001b[1;33m[\u001b[0m\u001b[1;34m'line'\u001b[0m\u001b[1;33m]\u001b[0m\u001b[1;33m)\u001b[0m\u001b[1;33m\u001b[0m\u001b[1;33m\u001b[0m\u001b[0m\n\u001b[0m",
      "\u001b[1;32m~\\Anaconda3\\lib\\site-packages\\pandas\\core\\series.py\u001b[0m in \u001b[0;36mto_frame\u001b[1;34m(self, name)\u001b[0m\n\u001b[0;32m   1512\u001b[0m             \u001b[0mdf\u001b[0m \u001b[1;33m=\u001b[0m \u001b[0mself\u001b[0m\u001b[1;33m.\u001b[0m\u001b[0m_constructor_expanddim\u001b[0m\u001b[1;33m(\u001b[0m\u001b[0mself\u001b[0m\u001b[1;33m)\u001b[0m\u001b[1;33m\u001b[0m\u001b[1;33m\u001b[0m\u001b[0m\n\u001b[0;32m   1513\u001b[0m         \u001b[1;32melse\u001b[0m\u001b[1;33m:\u001b[0m\u001b[1;33m\u001b[0m\u001b[1;33m\u001b[0m\u001b[0m\n\u001b[1;32m-> 1514\u001b[1;33m             \u001b[0mdf\u001b[0m \u001b[1;33m=\u001b[0m \u001b[0mself\u001b[0m\u001b[1;33m.\u001b[0m\u001b[0m_constructor_expanddim\u001b[0m\u001b[1;33m(\u001b[0m\u001b[1;33m{\u001b[0m\u001b[0mname\u001b[0m\u001b[1;33m:\u001b[0m \u001b[0mself\u001b[0m\u001b[1;33m}\u001b[0m\u001b[1;33m)\u001b[0m\u001b[1;33m\u001b[0m\u001b[1;33m\u001b[0m\u001b[0m\n\u001b[0m\u001b[0;32m   1515\u001b[0m \u001b[1;33m\u001b[0m\u001b[0m\n\u001b[0;32m   1516\u001b[0m         \u001b[1;32mreturn\u001b[0m \u001b[0mdf\u001b[0m\u001b[1;33m\u001b[0m\u001b[1;33m\u001b[0m\u001b[0m\n",
      "\u001b[1;31mTypeError\u001b[0m: unhashable type: 'list'"
     ]
    }
   ],
   "source": [
    "# def preprocess(x):\n",
    "#     return cleanchat(x)\n",
    "\n",
    "# lines['processed_text'] = lines['line'].apply(preprocess)\n",
    "lines.to_frame(name=['line'])"
   ]
  },
  {
   "cell_type": "code",
   "execution_count": null,
   "metadata": {},
   "outputs": [],
   "source": []
  }
 ],
 "metadata": {
  "kernelspec": {
   "display_name": "Python 3",
   "language": "python",
   "name": "python3"
  },
  "language_info": {
   "codemirror_mode": {
    "name": "ipython",
    "version": 3
   },
   "file_extension": ".py",
   "mimetype": "text/x-python",
   "name": "python",
   "nbconvert_exporter": "python",
   "pygments_lexer": "ipython3",
   "version": "3.7.3"
  },
  "pycharm": {
   "stem_cell": {
    "cell_type": "raw",
    "metadata": {
     "collapsed": false
    },
    "source": [
     "a = 5\n",
     "print(a)\n"
    ]
   }
  }
 },
 "nbformat": 4,
 "nbformat_minor": 1
}
